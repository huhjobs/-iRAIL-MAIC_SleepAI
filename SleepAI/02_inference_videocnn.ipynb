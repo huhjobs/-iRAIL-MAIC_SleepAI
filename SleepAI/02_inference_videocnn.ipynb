{
 "cells": [
  {
   "cell_type": "markdown",
   "metadata": {},
   "source": [
    "# Inference"
   ]
  },
  {
   "cell_type": "code",
   "execution_count": 4,
   "metadata": {},
   "outputs": [],
   "source": [
    "import time\n",
    "import datetime\n",
    "import os\n",
    "import ast\n",
    "import sys\n",
    "import pytz\n",
    "import random\n",
    "import shutil\n",
    "# import splitfolders\n",
    "import copy\n",
    "from glob import glob\n",
    "from tqdm import tqdm\n",
    "from pprint import pprint\n",
    "\n",
    "import warnings\n",
    "import requests\n",
    "\n",
    "import gc\n",
    "import math\n",
    "import numpy as np\n",
    "import pandas as pd\n",
    "\n",
    "import cv2\n",
    "from PIL import Image\n",
    "# import pydicom as pdm\n",
    "import pickle\n",
    "import yaml\n",
    "import h5py\n",
    "import json\n",
    "import matplotlib.pyplot as plt\n",
    "# import seaborn as sns\n",
    "\n",
    "import albumentations as albu\n",
    "import torch\n",
    "import torch.nn as nn  \n",
    "# import torchtuples as tt\n",
    "from sklearn import metrics\n",
    "\n",
    "import torchvision\n",
    "import timm \n",
    "# import pretrainedmodels"
   ]
  },
  {
   "cell_type": "code",
   "execution_count": 20,
   "metadata": {},
   "outputs": [
    {
     "name": "stdout",
     "output_type": "stream",
     "text": [
      "Using PyTorchversion: 1.9.1+cu111 Device: cuda\n"
     ]
    }
   ],
   "source": [
    "if torch.cuda.is_available():\n",
    "    DEVICE = torch.device('cuda')\n",
    "else: DEVICE = torch.device('cpu')\n",
    "    \n",
    "print('Using PyTorchversion:', torch.__version__, 'Device:', DEVICE)"
   ]
  },
  {
   "cell_type": "code",
   "execution_count": 42,
   "metadata": {},
   "outputs": [],
   "source": [
    "WORK_DIR = './'\n",
    "ANNOT_DIR = '/mnt/dataset/test/annotation/'\n",
    "IMG_DIR = '/ainode/dataset/test/'\n",
    "RGB_DIR = '/ainode/dataset/test/rgb/'\n",
    "FLOW_DIR = '/ainode/dataset/test/flow/'"
   ]
  },
  {
   "cell_type": "markdown",
   "metadata": {},
   "source": [
    "## Load Data"
   ]
  },
  {
   "cell_type": "code",
   "execution_count": 169,
   "metadata": {},
   "outputs": [],
   "source": [
    "case_lst = [path.split('/')[-1].split('_')[0] for path in glob(ANNOT_DIR+'/*')]\n",
    "case_lst.sort()"
   ]
  },
  {
   "cell_type": "code",
   "execution_count": 170,
   "metadata": {},
   "outputs": [
    {
     "data": {
      "text/plain": [
       "40"
      ]
     },
     "execution_count": 170,
     "metadata": {},
     "output_type": "execute_result"
    }
   ],
   "source": [
    "json_lst = []\n",
    "for case_dir in case_lst:\n",
    "    for path in glob(os.path.join(ANNOT_DIR, case_dir+'/*.json')):\n",
    "        with open(path, 'r') as j:\n",
    "            jsn = json.loads(j.read())\n",
    "            json_lst.append(jsn)\n",
    "len(json_lst)"
   ]
  },
  {
   "cell_type": "code",
   "execution_count": 171,
   "metadata": {
    "scrolled": true
   },
   "outputs": [
    {
     "data": {
      "text/html": [
       "<div>\n",
       "<style scoped>\n",
       "    .dataframe tbody tr th:only-of-type {\n",
       "        vertical-align: middle;\n",
       "    }\n",
       "\n",
       "    .dataframe tbody tr th {\n",
       "        vertical-align: top;\n",
       "    }\n",
       "\n",
       "    .dataframe thead th {\n",
       "        text-align: right;\n",
       "    }\n",
       "</style>\n",
       "<table border=\"1\" class=\"dataframe\">\n",
       "  <thead>\n",
       "    <tr style=\"text-align: right;\">\n",
       "      <th></th>\n",
       "      <th>File_Name</th>\n",
       "      <th>File_Extension</th>\n",
       "      <th>Frame_Rate</th>\n",
       "      <th>Frame_Count</th>\n",
       "      <th>Start</th>\n",
       "      <th>End</th>\n",
       "      <th>Bit_Rate</th>\n",
       "      <th>Width</th>\n",
       "      <th>Height</th>\n",
       "      <th>Case</th>\n",
       "    </tr>\n",
       "  </thead>\n",
       "  <tbody>\n",
       "    <tr>\n",
       "      <th>0</th>\n",
       "      <td>A2020-EM-01-0005_video_01.mp4</td>\n",
       "      <td>mp4</td>\n",
       "      <td>4.995</td>\n",
       "      <td>138163</td>\n",
       "      <td>2020/08/27 23:06:00.000</td>\n",
       "      <td>2020/08/28 06:47:00.000</td>\n",
       "      <td>289000.0</td>\n",
       "      <td>640</td>\n",
       "      <td>480</td>\n",
       "      <td>A2020-EM-01-0005</td>\n",
       "    </tr>\n",
       "    <tr>\n",
       "      <th>0</th>\n",
       "      <td>A2020-EM-01-0006_video_01.mp4</td>\n",
       "      <td>mp4</td>\n",
       "      <td>4.995</td>\n",
       "      <td>128415</td>\n",
       "      <td>2020/04/11 22:27:30.000</td>\n",
       "      <td>2020/04/12 05:35:58.243</td>\n",
       "      <td>279000.0</td>\n",
       "      <td>640</td>\n",
       "      <td>480</td>\n",
       "      <td>A2020-EM-01-0006</td>\n",
       "    </tr>\n",
       "    <tr>\n",
       "      <th>0</th>\n",
       "      <td>A2020-EM-01-0020_video_01.mp4</td>\n",
       "      <td>mp4</td>\n",
       "      <td>4.995</td>\n",
       "      <td>120331</td>\n",
       "      <td>2020/12/07 22:55:00.000</td>\n",
       "      <td>2020/12/08 05:36:30.000</td>\n",
       "      <td>283000.0</td>\n",
       "      <td>640</td>\n",
       "      <td>480</td>\n",
       "      <td>A2020-EM-01-0020</td>\n",
       "    </tr>\n",
       "    <tr>\n",
       "      <th>0</th>\n",
       "      <td>A2020-EM-01-0028_video_01.mp4</td>\n",
       "      <td>mp4</td>\n",
       "      <td>4.995</td>\n",
       "      <td>114636</td>\n",
       "      <td>2020/06/15 21:28:00.000</td>\n",
       "      <td>2020/06/16 03:50:30.000</td>\n",
       "      <td>268000.0</td>\n",
       "      <td>640</td>\n",
       "      <td>480</td>\n",
       "      <td>A2020-EM-01-0028</td>\n",
       "    </tr>\n",
       "    <tr>\n",
       "      <th>0</th>\n",
       "      <td>A2020-EM-01-0081_video_01.mp4</td>\n",
       "      <td>mp4</td>\n",
       "      <td>4.995</td>\n",
       "      <td>128123</td>\n",
       "      <td>2020/05/15 22:30:00.000</td>\n",
       "      <td>2020/05/16 05:37:30.000</td>\n",
       "      <td>285000.0</td>\n",
       "      <td>640</td>\n",
       "      <td>480</td>\n",
       "      <td>A2020-EM-01-0081</td>\n",
       "    </tr>\n",
       "  </tbody>\n",
       "</table>\n",
       "</div>"
      ],
      "text/plain": [
       "                       File_Name File_Extension  Frame_Rate  Frame_Count  \\\n",
       "0  A2020-EM-01-0005_video_01.mp4            mp4       4.995       138163   \n",
       "0  A2020-EM-01-0006_video_01.mp4            mp4       4.995       128415   \n",
       "0  A2020-EM-01-0020_video_01.mp4            mp4       4.995       120331   \n",
       "0  A2020-EM-01-0028_video_01.mp4            mp4       4.995       114636   \n",
       "0  A2020-EM-01-0081_video_01.mp4            mp4       4.995       128123   \n",
       "\n",
       "                     Start                      End  Bit_Rate  Width  Height  \\\n",
       "0  2020/08/27 23:06:00.000  2020/08/28 06:47:00.000  289000.0    640     480   \n",
       "0  2020/04/11 22:27:30.000  2020/04/12 05:35:58.243  279000.0    640     480   \n",
       "0  2020/12/07 22:55:00.000  2020/12/08 05:36:30.000  283000.0    640     480   \n",
       "0  2020/06/15 21:28:00.000  2020/06/16 03:50:30.000  268000.0    640     480   \n",
       "0  2020/05/15 22:30:00.000  2020/05/16 05:37:30.000  285000.0    640     480   \n",
       "\n",
       "               Case  \n",
       "0  A2020-EM-01-0005  \n",
       "0  A2020-EM-01-0006  \n",
       "0  A2020-EM-01-0020  \n",
       "0  A2020-EM-01-0028  \n",
       "0  A2020-EM-01-0081  "
      ]
     },
     "execution_count": 171,
     "metadata": {},
     "output_type": "execute_result"
    }
   ],
   "source": [
    "final_df = pd.DataFrame()\n",
    "\n",
    "for case_json in json_lst:\n",
    "    event_df = pd.DataFrame.from_dict(case_json['Video_Info'])\n",
    "    event_df['Case'] = [case_json['Case_Info']['Case_Number'] for i in range(len(event_df))]\n",
    "    final_df = pd.concat([final_df, event_df])\n",
    "    \n",
    "len(final_df)\n",
    "final_df.head()"
   ]
  },
  {
   "cell_type": "code",
   "execution_count": 89,
   "metadata": {},
   "outputs": [],
   "source": [
    "def frame2epoch(frameidx, fps): # image frame number (type 'int') to corresponding start epoch (type 'int')\n",
    "    return int(frameidx//(30*fps)+1)\n",
    "\n",
    "def epoch2frame(startepoch, fps): # start epoch (type 'int') to corresponding image frame start number, end number(type 'list')\n",
    "    startframe = (startepoch-1)*fps*30\n",
    "    return [int(startframe),int(startframe+fps*30)]"
   ]
  },
  {
   "cell_type": "code",
   "execution_count": 172,
   "metadata": {
    "scrolled": true
   },
   "outputs": [],
   "source": [
    "Epoch_Count = [frame2epoch(list(final_df['Frame_Count'])[idx], list(final_df['Frame_Rate'])[idx]) for idx in range(len(final_df))]"
   ]
  },
  {
   "cell_type": "code",
   "execution_count": 174,
   "metadata": {},
   "outputs": [],
   "source": [
    "final_df['Epoch_Count'] = Epoch_Count"
   ]
  },
  {
   "cell_type": "code",
   "execution_count": 176,
   "metadata": {},
   "outputs": [],
   "source": [
    "Frames = []\n",
    "for idx in range(len(X)):\n",
    "    fps = np.array(X['Frame_Rate'])[idx]\n",
    "    startepoch = np.array(X['Epoch'])[idx]\n",
    "    Frames.append(epoch2frame(startepoch+1, fps))"
   ]
  },
  {
   "cell_type": "code",
   "execution_count": 179,
   "metadata": {
    "scrolled": false
   },
   "outputs": [],
   "source": [
    "Epoch = []\n",
    "Case = []\n",
    "Frame_Rate = []\n",
    "Frame_Count = []\n",
    "Epoch_Count = []\n",
    "for idx, epoch_count in enumerate(list(final_df['Epoch_Count'])):\n",
    "    Epoch += list(range(epoch_count-1))\n",
    "    Case += [list(final_df['Case'])[idx] for i in range(epoch_count-1)]\n",
    "    Frame_Rate += [list(final_df['Frame_Rate'])[idx] for i in range(epoch_count-1)]\n",
    "    Frame_Count += [list(final_df['Frame_Count'])[idx] for i in range(epoch_count-1)]\n",
    "    Epoch_Count += [list(final_df['Epoch_Count'])[idx] for i in range(epoch_count-1)]\n",
    "\n",
    "dict = {'Case': Case, 'Epoch': Epoch, 'Epoch_Count': Epoch_Count, 'Frame_Count': Frame_Count, 'Frame_Rate': Frame_Rate, 'Frames': Frames} \n",
    "X = pd.DataFrame(dict)"
   ]
  },
  {
   "cell_type": "code",
   "execution_count": 178,
   "metadata": {
    "scrolled": true
   },
   "outputs": [
    {
     "data": {
      "text/html": [
       "<div>\n",
       "<style scoped>\n",
       "    .dataframe tbody tr th:only-of-type {\n",
       "        vertical-align: middle;\n",
       "    }\n",
       "\n",
       "    .dataframe tbody tr th {\n",
       "        vertical-align: top;\n",
       "    }\n",
       "\n",
       "    .dataframe thead th {\n",
       "        text-align: right;\n",
       "    }\n",
       "</style>\n",
       "<table border=\"1\" class=\"dataframe\">\n",
       "  <thead>\n",
       "    <tr style=\"text-align: right;\">\n",
       "      <th></th>\n",
       "      <th>Case</th>\n",
       "      <th>Epoch</th>\n",
       "      <th>Epoch_Count</th>\n",
       "      <th>Frame_Count</th>\n",
       "      <th>Frame_Rate</th>\n",
       "      <th>Frames</th>\n",
       "    </tr>\n",
       "  </thead>\n",
       "  <tbody>\n",
       "    <tr>\n",
       "      <th>0</th>\n",
       "      <td>A2020-EM-01-0005</td>\n",
       "      <td>0</td>\n",
       "      <td>923</td>\n",
       "      <td>138163</td>\n",
       "      <td>4.995</td>\n",
       "      <td>[0, 149]</td>\n",
       "    </tr>\n",
       "    <tr>\n",
       "      <th>1</th>\n",
       "      <td>A2020-EM-01-0005</td>\n",
       "      <td>1</td>\n",
       "      <td>923</td>\n",
       "      <td>138163</td>\n",
       "      <td>4.995</td>\n",
       "      <td>[149, 299]</td>\n",
       "    </tr>\n",
       "    <tr>\n",
       "      <th>2</th>\n",
       "      <td>A2020-EM-01-0005</td>\n",
       "      <td>2</td>\n",
       "      <td>923</td>\n",
       "      <td>138163</td>\n",
       "      <td>4.995</td>\n",
       "      <td>[299, 449]</td>\n",
       "    </tr>\n",
       "    <tr>\n",
       "      <th>3</th>\n",
       "      <td>A2020-EM-01-0005</td>\n",
       "      <td>3</td>\n",
       "      <td>923</td>\n",
       "      <td>138163</td>\n",
       "      <td>4.995</td>\n",
       "      <td>[449, 599]</td>\n",
       "    </tr>\n",
       "    <tr>\n",
       "      <th>4</th>\n",
       "      <td>A2020-EM-01-0005</td>\n",
       "      <td>4</td>\n",
       "      <td>923</td>\n",
       "      <td>138163</td>\n",
       "      <td>4.995</td>\n",
       "      <td>[599, 749]</td>\n",
       "    </tr>\n",
       "    <tr>\n",
       "      <th>...</th>\n",
       "      <td>...</td>\n",
       "      <td>...</td>\n",
       "      <td>...</td>\n",
       "      <td>...</td>\n",
       "      <td>...</td>\n",
       "      <td>...</td>\n",
       "    </tr>\n",
       "    <tr>\n",
       "      <th>32883</th>\n",
       "      <td>A2021-EM-01-0163</td>\n",
       "      <td>929</td>\n",
       "      <td>935</td>\n",
       "      <td>139323</td>\n",
       "      <td>4.972</td>\n",
       "      <td>[138569, 138718]</td>\n",
       "    </tr>\n",
       "    <tr>\n",
       "      <th>32884</th>\n",
       "      <td>A2021-EM-01-0163</td>\n",
       "      <td>930</td>\n",
       "      <td>935</td>\n",
       "      <td>139323</td>\n",
       "      <td>4.972</td>\n",
       "      <td>[138718, 138867]</td>\n",
       "    </tr>\n",
       "    <tr>\n",
       "      <th>32885</th>\n",
       "      <td>A2021-EM-01-0163</td>\n",
       "      <td>931</td>\n",
       "      <td>935</td>\n",
       "      <td>139323</td>\n",
       "      <td>4.972</td>\n",
       "      <td>[138867, 139017]</td>\n",
       "    </tr>\n",
       "    <tr>\n",
       "      <th>32886</th>\n",
       "      <td>A2021-EM-01-0163</td>\n",
       "      <td>932</td>\n",
       "      <td>935</td>\n",
       "      <td>139323</td>\n",
       "      <td>4.972</td>\n",
       "      <td>[139017, 139166]</td>\n",
       "    </tr>\n",
       "    <tr>\n",
       "      <th>32887</th>\n",
       "      <td>A2021-EM-01-0163</td>\n",
       "      <td>933</td>\n",
       "      <td>935</td>\n",
       "      <td>139323</td>\n",
       "      <td>4.972</td>\n",
       "      <td>[139166, 139315]</td>\n",
       "    </tr>\n",
       "  </tbody>\n",
       "</table>\n",
       "<p>32888 rows × 6 columns</p>\n",
       "</div>"
      ],
      "text/plain": [
       "                   Case  Epoch  Epoch_Count  Frame_Count  Frame_Rate  \\\n",
       "0      A2020-EM-01-0005      0          923       138163       4.995   \n",
       "1      A2020-EM-01-0005      1          923       138163       4.995   \n",
       "2      A2020-EM-01-0005      2          923       138163       4.995   \n",
       "3      A2020-EM-01-0005      3          923       138163       4.995   \n",
       "4      A2020-EM-01-0005      4          923       138163       4.995   \n",
       "...                 ...    ...          ...          ...         ...   \n",
       "32883  A2021-EM-01-0163    929          935       139323       4.972   \n",
       "32884  A2021-EM-01-0163    930          935       139323       4.972   \n",
       "32885  A2021-EM-01-0163    931          935       139323       4.972   \n",
       "32886  A2021-EM-01-0163    932          935       139323       4.972   \n",
       "32887  A2021-EM-01-0163    933          935       139323       4.972   \n",
       "\n",
       "                 Frames  \n",
       "0              [0, 149]  \n",
       "1            [149, 299]  \n",
       "2            [299, 449]  \n",
       "3            [449, 599]  \n",
       "4            [599, 749]  \n",
       "...                 ...  \n",
       "32883  [138569, 138718]  \n",
       "32884  [138718, 138867]  \n",
       "32885  [138867, 139017]  \n",
       "32886  [139017, 139166]  \n",
       "32887  [139166, 139315]  \n",
       "\n",
       "[32888 rows x 6 columns]"
      ]
     },
     "execution_count": 178,
     "metadata": {},
     "output_type": "execute_result"
    }
   ],
   "source": [
    "X"
   ]
  },
  {
   "cell_type": "code",
   "execution_count": 180,
   "metadata": {},
   "outputs": [],
   "source": [
    "from torch.utils.data import DataLoader\n",
    "from torch.utils.data import Dataset as BaseDataset\n",
    "import sklearn"
   ]
  },
  {
   "cell_type": "code",
   "execution_count": 194,
   "metadata": {},
   "outputs": [],
   "source": [
    "class Dataset(BaseDataset):\n",
    "    \n",
    "    def __init__(\n",
    "            self,  \n",
    "            X,\n",
    "            imgtype, # 'rgb','flow_x','flow_y'\n",
    "            augmentation=None, \n",
    "            preprocessing=None,\n",
    "    ):\n",
    "        self.epochs = X['Epoch'].tolist()\n",
    "        self.cases = X['Case']\n",
    "        self.fps = X['Frame_Rate'].tolist()\n",
    "        self.frames = X['Frames'].tolist()\n",
    "        self.imgpaths = [f'{IMG_DIR}{imgtype[:4]}/{self.cases[idx]}_video_01/' for idx in range(len(self.epochs))]\n",
    "        self.imgtype = imgtype\n",
    "        \n",
    "        self.augmentation = augmentation\n",
    "        self.preprocessing = preprocessing\n",
    "    \n",
    "    def __getitem__(self, i):\n",
    "        \n",
    "        # read data\n",
    "        imgs_path = self.imgpaths[i] # 해당 케이스 이미지 다 들어가있는 디렉토리\n",
    "        \n",
    "        if 'flow' in self.imgtype:\n",
    "            img_lst = glob(imgs_path+f'/{self.imgtype}*.jpg')\n",
    "        else:\n",
    "            img_lst = glob(imgs_path+'/img*.jpg')\n",
    "        img_lst.sort()\n",
    "        frames = self.frames[i]\n",
    "#         frames = ast.literal_eval(self.frames[i])\n",
    "        img_lst = img_lst[frames[0]:frames[1]] #img_lst[self.frames[i][0]:self.frames[i][0]+150]\n",
    "        images = []\n",
    "        \n",
    "        for idx, path in enumerate(img_lst):\n",
    "            if idx % 5 == 0:\n",
    "                image = np.array(Image.open(path).resize((128,128)).convert('RGB'))\n",
    "                image = np.transpose(image, (2, 0, 1))\n",
    "                images.append(image)\n",
    "        \n",
    "        images = np.array(images)\n",
    "        images = np.transpose(images, (1,0,2,3))\n",
    "        images = torch.Tensor(images)\n",
    "        \n",
    "        return images\n",
    "\n",
    "        \n",
    "    def __len__(self):\n",
    "        return len(self.epochs)"
   ]
  },
  {
   "cell_type": "code",
   "execution_count": 195,
   "metadata": {},
   "outputs": [
    {
     "data": {
      "image/png": "[encoded data removed]",
      "text/plain": [
       "<PIL.Image.Image image mode=RGB size=128x128 at 0x7F048BAB0B20>"
      ]
     },
     "execution_count": 195,
     "metadata": {},
     "output_type": "execute_result"
    }
   ],
   "source": [
    "dataset = Dataset(X, 'rgb')\n",
    "#                   augmentation = get_validation_augmentation()) #, preprocessing = get_preprocessing())\n",
    "image = dataset[4]\n",
    "\n",
    "np.array(image).shape\n",
    "# dataset.cases, dataset.epochs\n",
    "# np.unique(np.array(images[6]))\n",
    "# Image.fromarray(np.array(image).astype('uint8'))\n",
    "Image.fromarray(np.transpose(np.array(image).astype('uint8')[:,0,:,:], (2,1,0)))"
   ]
  },
  {
   "cell_type": "markdown",
   "metadata": {},
   "source": [
    "## Load Model"
   ]
  },
  {
   "cell_type": "code",
   "execution_count": 196,
   "metadata": {},
   "outputs": [],
   "source": [
    "resnet3d = torchvision.models.video.r3d_18(pretrained = True, progress = True)"
   ]
  },
  {
   "cell_type": "code",
   "execution_count": 197,
   "metadata": {},
   "outputs": [],
   "source": [
    "# classifier layer output shape --> number of classes\n",
    "CLASSES = 3\n",
    "\n",
    "num_ftrs = resnet3d.fc.in_features\n",
    "resnet3d.fc = nn.Linear(num_ftrs,CLASSES)\n",
    "resnet3d.fc = nn.Sequential(resnet3d.fc, nn.Softmax(),)"
   ]
  },
  {
   "cell_type": "code",
   "execution_count": 198,
   "metadata": {},
   "outputs": [],
   "source": [
    "LR =0.00005\n",
    "optimizer = torch.optim.Adam(best_model.parameters(), lr = LR)"
   ]
  },
  {
   "cell_type": "code",
   "execution_count": 199,
   "metadata": {},
   "outputs": [],
   "source": [
    "best_model = resnet3d"
   ]
  },
  {
   "cell_type": "code",
   "execution_count": 206,
   "metadata": {},
   "outputs": [
    {
     "data": {
      "text/plain": [
       "VideoResNet(\n",
       "  (stem): BasicStem(\n",
       "    (0): Conv3d(3, 64, kernel_size=(3, 7, 7), stride=(1, 2, 2), padding=(1, 3, 3), bias=False)\n",
       "    (1): BatchNorm3d(64, eps=1e-05, momentum=0.1, affine=True, track_running_stats=True)\n",
       "    (2): ReLU(inplace=True)\n",
       "  )\n",
       "  (layer1): Sequential(\n",
       "    (0): BasicBlock(\n",
       "      (conv1): Sequential(\n",
       "        (0): Conv3DSimple(64, 64, kernel_size=(3, 3, 3), stride=(1, 1, 1), padding=(1, 1, 1), bias=False)\n",
       "        (1): BatchNorm3d(64, eps=1e-05, momentum=0.1, affine=True, track_running_stats=True)\n",
       "        (2): ReLU(inplace=True)\n",
       "      )\n",
       "      (conv2): Sequential(\n",
       "        (0): Conv3DSimple(64, 64, kernel_size=(3, 3, 3), stride=(1, 1, 1), padding=(1, 1, 1), bias=False)\n",
       "        (1): BatchNorm3d(64, eps=1e-05, momentum=0.1, affine=True, track_running_stats=True)\n",
       "      )\n",
       "      (relu): ReLU(inplace=True)\n",
       "    )\n",
       "    (1): BasicBlock(\n",
       "      (conv1): Sequential(\n",
       "        (0): Conv3DSimple(64, 64, kernel_size=(3, 3, 3), stride=(1, 1, 1), padding=(1, 1, 1), bias=False)\n",
       "        (1): BatchNorm3d(64, eps=1e-05, momentum=0.1, affine=True, track_running_stats=True)\n",
       "        (2): ReLU(inplace=True)\n",
       "      )\n",
       "      (conv2): Sequential(\n",
       "        (0): Conv3DSimple(64, 64, kernel_size=(3, 3, 3), stride=(1, 1, 1), padding=(1, 1, 1), bias=False)\n",
       "        (1): BatchNorm3d(64, eps=1e-05, momentum=0.1, affine=True, track_running_stats=True)\n",
       "      )\n",
       "      (relu): ReLU(inplace=True)\n",
       "    )\n",
       "  )\n",
       "  (layer2): Sequential(\n",
       "    (0): BasicBlock(\n",
       "      (conv1): Sequential(\n",
       "        (0): Conv3DSimple(64, 128, kernel_size=(3, 3, 3), stride=(2, 2, 2), padding=(1, 1, 1), bias=False)\n",
       "        (1): BatchNorm3d(128, eps=1e-05, momentum=0.1, affine=True, track_running_stats=True)\n",
       "        (2): ReLU(inplace=True)\n",
       "      )\n",
       "      (conv2): Sequential(\n",
       "        (0): Conv3DSimple(128, 128, kernel_size=(3, 3, 3), stride=(1, 1, 1), padding=(1, 1, 1), bias=False)\n",
       "        (1): BatchNorm3d(128, eps=1e-05, momentum=0.1, affine=True, track_running_stats=True)\n",
       "      )\n",
       "      (relu): ReLU(inplace=True)\n",
       "      (downsample): Sequential(\n",
       "        (0): Conv3d(64, 128, kernel_size=(1, 1, 1), stride=(2, 2, 2), bias=False)\n",
       "        (1): BatchNorm3d(128, eps=1e-05, momentum=0.1, affine=True, track_running_stats=True)\n",
       "      )\n",
       "    )\n",
       "    (1): BasicBlock(\n",
       "      (conv1): Sequential(\n",
       "        (0): Conv3DSimple(128, 128, kernel_size=(3, 3, 3), stride=(1, 1, 1), padding=(1, 1, 1), bias=False)\n",
       "        (1): BatchNorm3d(128, eps=1e-05, momentum=0.1, affine=True, track_running_stats=True)\n",
       "        (2): ReLU(inplace=True)\n",
       "      )\n",
       "      (conv2): Sequential(\n",
       "        (0): Conv3DSimple(128, 128, kernel_size=(3, 3, 3), stride=(1, 1, 1), padding=(1, 1, 1), bias=False)\n",
       "        (1): BatchNorm3d(128, eps=1e-05, momentum=0.1, affine=True, track_running_stats=True)\n",
       "      )\n",
       "      (relu): ReLU(inplace=True)\n",
       "    )\n",
       "  )\n",
       "  (layer3): Sequential(\n",
       "    (0): BasicBlock(\n",
       "      (conv1): Sequential(\n",
       "        (0): Conv3DSimple(128, 256, kernel_size=(3, 3, 3), stride=(2, 2, 2), padding=(1, 1, 1), bias=False)\n",
       "        (1): BatchNorm3d(256, eps=1e-05, momentum=0.1, affine=True, track_running_stats=True)\n",
       "        (2): ReLU(inplace=True)\n",
       "      )\n",
       "      (conv2): Sequential(\n",
       "        (0): Conv3DSimple(256, 256, kernel_size=(3, 3, 3), stride=(1, 1, 1), padding=(1, 1, 1), bias=False)\n",
       "        (1): BatchNorm3d(256, eps=1e-05, momentum=0.1, affine=True, track_running_stats=True)\n",
       "      )\n",
       "      (relu): ReLU(inplace=True)\n",
       "      (downsample): Sequential(\n",
       "        (0): Conv3d(128, 256, kernel_size=(1, 1, 1), stride=(2, 2, 2), bias=False)\n",
       "        (1): BatchNorm3d(256, eps=1e-05, momentum=0.1, affine=True, track_running_stats=True)\n",
       "      )\n",
       "    )\n",
       "    (1): BasicBlock(\n",
       "      (conv1): Sequential(\n",
       "        (0): Conv3DSimple(256, 256, kernel_size=(3, 3, 3), stride=(1, 1, 1), padding=(1, 1, 1), bias=False)\n",
       "        (1): BatchNorm3d(256, eps=1e-05, momentum=0.1, affine=True, track_running_stats=True)\n",
       "        (2): ReLU(inplace=True)\n",
       "      )\n",
       "      (conv2): Sequential(\n",
       "        (0): Conv3DSimple(256, 256, kernel_size=(3, 3, 3), stride=(1, 1, 1), padding=(1, 1, 1), bias=False)\n",
       "        (1): BatchNorm3d(256, eps=1e-05, momentum=0.1, affine=True, track_running_stats=True)\n",
       "      )\n",
       "      (relu): ReLU(inplace=True)\n",
       "    )\n",
       "  )\n",
       "  (layer4): Sequential(\n",
       "    (0): BasicBlock(\n",
       "      (conv1): Sequential(\n",
       "        (0): Conv3DSimple(256, 512, kernel_size=(3, 3, 3), stride=(2, 2, 2), padding=(1, 1, 1), bias=False)\n",
       "        (1): BatchNorm3d(512, eps=1e-05, momentum=0.1, affine=True, track_running_stats=True)\n",
       "        (2): ReLU(inplace=True)\n",
       "      )\n",
       "      (conv2): Sequential(\n",
       "        (0): Conv3DSimple(512, 512, kernel_size=(3, 3, 3), stride=(1, 1, 1), padding=(1, 1, 1), bias=False)\n",
       "        (1): BatchNorm3d(512, eps=1e-05, momentum=0.1, affine=True, track_running_stats=True)\n",
       "      )\n",
       "      (relu): ReLU(inplace=True)\n",
       "      (downsample): Sequential(\n",
       "        (0): Conv3d(256, 512, kernel_size=(1, 1, 1), stride=(2, 2, 2), bias=False)\n",
       "        (1): BatchNorm3d(512, eps=1e-05, momentum=0.1, affine=True, track_running_stats=True)\n",
       "      )\n",
       "    )\n",
       "    (1): BasicBlock(\n",
       "      (conv1): Sequential(\n",
       "        (0): Conv3DSimple(512, 512, kernel_size=(3, 3, 3), stride=(1, 1, 1), padding=(1, 1, 1), bias=False)\n",
       "        (1): BatchNorm3d(512, eps=1e-05, momentum=0.1, affine=True, track_running_stats=True)\n",
       "        (2): ReLU(inplace=True)\n",
       "      )\n",
       "      (conv2): Sequential(\n",
       "        (0): Conv3DSimple(512, 512, kernel_size=(3, 3, 3), stride=(1, 1, 1), padding=(1, 1, 1), bias=False)\n",
       "        (1): BatchNorm3d(512, eps=1e-05, momentum=0.1, affine=True, track_running_stats=True)\n",
       "      )\n",
       "      (relu): ReLU(inplace=True)\n",
       "    )\n",
       "  )\n",
       "  (avgpool): AdaptiveAvgPool3d(output_size=(1, 1, 1))\n",
       "  (fc): Sequential(\n",
       "    (0): Linear(in_features=512, out_features=3, bias=True)\n",
       "    (1): Softmax(dim=None)\n",
       "  )\n",
       ")"
      ]
     },
     "execution_count": 206,
     "metadata": {},
     "output_type": "execute_result"
    }
   ],
   "source": [
    "DIR = WORK_DIR + 'saved-models/'\n",
    "\n",
    "weights = os.listdir(DIR)\n",
    "weights.sort()\n",
    "# val_losses = [filename.split('-')[2].split('val')[1] for filename in weights]\n",
    "val_losses = [filename.split('-')[2].split('val')[1] for filename in weights] #[1:]]\n",
    "best_weight = val_losses.index(min(val_losses))\n",
    "# path = './saved_models/' + weights[best_weight]\n",
    "path = DIR + weights[best_weight] #+1] # '.ipynb_checkpoints' 파일이 맨 앞에 있기 때문에 index가 하나씩 밀린다.\n",
    "\n",
    "path = DIR+ 'model-epoch02-loss_val0.86-acc_val0.60.pt'\n",
    "\n",
    "\n",
    "# best_model = torch.load(DIR+'model-epoch00-loss_val1.08-acc_val0.46.pt')\n",
    "checkpoint = torch.load(path)\n",
    "best_model.load_state_dict(checkpoint['model_state_dict'])\n",
    "optimizer.load_state_dict(checkpoint['optimizer_state_dict'])\n",
    "epoch = checkpoint['epoch']\n",
    "accuracy = checkpoint['accuracy']\n",
    "# loss = checkpoint['loss']\n",
    "\n",
    "best_model.eval()"
   ]
  },
  {
   "cell_type": "code",
   "execution_count": 207,
   "metadata": {},
   "outputs": [],
   "source": [
    "test_dataset = Dataset(X,'rgb')\n",
    "\n",
    "test_loader = DataLoader(test_dataset)"
   ]
  },
  {
   "cell_type": "code",
   "execution_count": 208,
   "metadata": {},
   "outputs": [
    {
     "name": "stdout",
     "output_type": "stream",
     "text": [
      "Xtest: torch.Size([1, 3, 30, 128, 128]) type: torch.FloatTensor\n",
      "CPU times: user 284 ms, sys: 24.3 ms, total: 308 ms\n",
      "Wall time: 307 ms\n"
     ]
    }
   ],
   "source": [
    "%%time\n",
    "Xtest = next(iter(test_loader))\n",
    "print('Xtest:', Xtest.size(), 'type:', Xtest.type())"
   ]
  },
  {
   "cell_type": "code",
   "execution_count": null,
   "metadata": {},
   "outputs": [
    {
     "name": "stderr",
     "output_type": "stream",
     "text": [
      " 84%|████████▍ | 27568/32888 [2:28:52<29:06,  3.05it/s]  "
     ]
    }
   ],
   "source": [
    "# true_labels = []\n",
    "predicted_labels = []\n",
    "predicted_values = []\n",
    "\n",
    "best_model.eval()\n",
    "best_model.to(DEVICE)\n",
    "\n",
    "# test_loss = AverageMeter()\n",
    "# test_acc = AverageMeter()\n",
    "\n",
    "with torch.no_grad():                                                     # 모델을 평가하는 단계에서는 Gradient를 통해 parameter값이 update되는 현상을 방지하기 위해 'torch.no_grad()' 메서드를 이용해 Gradient의 흐름을 억제\n",
    "    for image in tqdm(test_loader):\n",
    "        image = image.to(DEVICE)\n",
    "#         label = label.to(DEVICE)\n",
    "        output = best_model(image)\n",
    "#         loss = criterion(output, label)\n",
    "        prediction = output.max(1, keepdim = True)[1]                     # output값 (prediction probability)가 가장 높은 index(class)로 예측\n",
    "        \n",
    "#         true_labels.append(label)\n",
    "        predicted_labels.append(prediction)\n",
    "        predicted_values.append(output)\n",
    "        \n",
    "#         test_acc.update(prediction.eq(label.view_as(prediction)).sum().item()/BATCH_SIZE)\n",
    "#         test_loss.update(loss.item())\n",
    "        \n",
    "# test_loss.avg, test_acc.avg"
   ]
  },
  {
   "cell_type": "code",
   "execution_count": 216,
   "metadata": {},
   "outputs": [],
   "source": [
    "with open('predicted_labels_rgb_v001.npy', 'wb') as f:\n",
    "    np.save(f, np.array(predicted_labels))\n",
    "    \n",
    "with open('predicted_values_rgb_v001.npy', 'wb') as f:\n",
    "    np.save(f, np.array(predicted_values))"
   ]
  },
  {
   "cell_type": "code",
   "execution_count": 217,
   "metadata": {},
   "outputs": [],
   "source": [
    "X.to_csv('test_csv.csv', index = False)"
   ]
  },
  {
   "cell_type": "code",
   "execution_count": 215,
   "metadata": {},
   "outputs": [
    {
     "data": {
      "text/plain": [
       "32888"
      ]
     },
     "execution_count": 215,
     "metadata": {},
     "output_type": "execute_result"
    }
   ],
   "source": [
    "len(predicted_values)"
   ]
  },
  {
   "cell_type": "code",
   "execution_count": null,
   "metadata": {},
   "outputs": [],
   "source": []
  }
 ],
 "metadata": {
  "kernelspec": {
   "display_name": "Python 3",
   "language": "python",
   "name": "python3"
  },
  "language_info": {
   "codemirror_mode": {
    "name": "ipython",
    "version": 3
   },
   "file_extension": ".py",
   "mimetype": "text/x-python",
   "name": "python",
   "nbconvert_exporter": "python",
   "pygments_lexer": "ipython3",
   "version": "3.8.10"
  }
 },
 "nbformat": 4,
 "nbformat_minor": 2
}
