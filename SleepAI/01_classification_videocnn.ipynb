{
 "cells": [
  {
   "cell_type": "code",
   "execution_count": 1,
   "metadata": {},
   "outputs": [],
   "source": [
    "! mkdir -p /root/.pip"
   ]
  },
  {
   "cell_type": "code",
   "execution_count": 2,
   "metadata": {},
   "outputs": [
    {
     "name": "stdout",
     "output_type": "stream",
     "text": [
      "Overwriting /root/.pip/pip.conf\n"
     ]
    }
   ],
   "source": [
    "%%writefile /root/.pip/pip.conf\n",
    "[global]\n",
    "index-url=http://ftp.daumkakao.com/pypi/simple\n",
    "trusted-host=ftp.daumkakao.com"
   ]
  },
  {
   "cell_type": "code",
   "execution_count": 3,
   "metadata": {},
   "outputs": [],
   "source": [
    "import time\n",
    "import datetime\n",
    "import os\n",
    "import ast\n",
    "import sys\n",
    "import pytz\n",
    "import random\n",
    "import shutil\n",
    "# import splitfolders\n",
    "import copy\n",
    "from glob import glob\n",
    "from tqdm import tqdm\n",
    "from pprint import pprint\n",
    "\n",
    "import warnings\n",
    "import requests\n",
    "\n",
    "import gc\n",
    "import math\n",
    "import numpy as np\n",
    "import pandas as pd\n",
    "\n",
    "import cv2\n",
    "from PIL import Image\n",
    "# import pydicom as pdm\n",
    "import pickle\n",
    "import yaml\n",
    "import h5py\n",
    "import json\n",
    "import matplotlib.pyplot as plt\n",
    "# import seaborn as sns\n",
    "\n",
    "import albumentations as albu\n",
    "import torch\n",
    "# import torchtuples as tt\n",
    "from sklearn import metrics\n",
    "\n",
    "import torchvision\n",
    "import timm \n",
    "# import pretrainedmodels"
   ]
  },
  {
   "cell_type": "code",
   "execution_count": 4,
   "metadata": {},
   "outputs": [
    {
     "name": "stdout",
     "output_type": "stream",
     "text": [
      "Looking in indexes: http://ftp.daumkakao.com/pypi/simple\n",
      "Requirement already satisfied: timm in /usr/local/lib/python3.8/dist-packages (0.4.12)\n",
      "Requirement already satisfied: torchvision in /usr/local/lib/python3.8/dist-packages (from timm) (0.11.1+cu113)\n",
      "Requirement already satisfied: torch>=1.4 in /usr/local/lib/python3.8/dist-packages (from timm) (1.10.0+cu113)\n",
      "Requirement already satisfied: numpy in /usr/local/lib/python3.8/dist-packages (from torchvision->timm) (1.19.5)\n",
      "Requirement already satisfied: pillow!=8.3.0,>=5.3.0 in /usr/local/lib/python3.8/dist-packages (from torchvision->timm) (8.3.2)\n",
      "Requirement already satisfied: typing-extensions in /usr/local/lib/python3.8/dist-packages (from torch>=1.4->timm) (3.7.4.3)\n",
      "\u001b[33mWARNING: You are using pip version 20.2.4; however, version 21.3.1 is available.\n",
      "You should consider upgrading via the '/usr/bin/python3 -m pip install --upgrade pip' command.\u001b[0m\n"
     ]
    }
   ],
   "source": [
    "!pip install timm"
   ]
  },
  {
   "cell_type": "code",
   "execution_count": 5,
   "metadata": {},
   "outputs": [
    {
     "name": "stdout",
     "output_type": "stream",
     "text": [
      "Using PyTorchversion: 1.10.0+cu113 Device: cuda\n"
     ]
    }
   ],
   "source": [
    "if torch.cuda.is_available():\n",
    "    DEVICE = torch.device('cuda')\n",
    "else: DEVICE = torch.device('cpu')\n",
    "    \n",
    "print('Using PyTorchversion:', torch.__version__, 'Device:', DEVICE)"
   ]
  },
  {
   "cell_type": "code",
   "execution_count": 6,
   "metadata": {},
   "outputs": [],
   "source": [
    "DATA_DIR = '/ainode/dataset/train/'\n",
    "case_lst = [path.split('/')[-1].split('_')[0] for path in glob(DATA_DIR+'flow/*')]\n",
    "case_lst.sort()"
   ]
  },
  {
   "cell_type": "code",
   "execution_count": 7,
   "metadata": {},
   "outputs": [
    {
     "data": {
      "text/html": [
       "<div>\n",
       "<style scoped>\n",
       "    .dataframe tbody tr th:only-of-type {\n",
       "        vertical-align: middle;\n",
       "    }\n",
       "\n",
       "    .dataframe tbody tr th {\n",
       "        vertical-align: top;\n",
       "    }\n",
       "\n",
       "    .dataframe thead th {\n",
       "        text-align: right;\n",
       "    }\n",
       "</style>\n",
       "<table border=\"1\" class=\"dataframe\">\n",
       "  <thead>\n",
       "    <tr style=\"text-align: right;\">\n",
       "      <th></th>\n",
       "      <th>Event_Number</th>\n",
       "      <th>Event_Label</th>\n",
       "      <th>Start_Time</th>\n",
       "      <th>End_Time</th>\n",
       "      <th>Start_Epoch</th>\n",
       "      <th>End_Epoch</th>\n",
       "      <th>Duration(second)</th>\n",
       "      <th>FPS</th>\n",
       "      <th>Frames</th>\n",
       "      <th>Case</th>\n",
       "      <th>ID</th>\n",
       "    </tr>\n",
       "  </thead>\n",
       "  <tbody>\n",
       "    <tr>\n",
       "      <th>0</th>\n",
       "      <td>0</td>\n",
       "      <td>Wake</td>\n",
       "      <td>2020/05/02 22:20:30.000</td>\n",
       "      <td>2020/05/02 22:21:00.000</td>\n",
       "      <td>1</td>\n",
       "      <td>2</td>\n",
       "      <td>30.0</td>\n",
       "      <td>5.0</td>\n",
       "      <td>[0, 150]</td>\n",
       "      <td>A2020-EM-01-0001</td>\n",
       "      <td>0</td>\n",
       "    </tr>\n",
       "    <tr>\n",
       "      <th>1</th>\n",
       "      <td>4</td>\n",
       "      <td>Wake</td>\n",
       "      <td>2020/05/02 22:21:00.000</td>\n",
       "      <td>2020/05/02 22:21:30.000</td>\n",
       "      <td>2</td>\n",
       "      <td>3</td>\n",
       "      <td>30.0</td>\n",
       "      <td>5.0</td>\n",
       "      <td>[150, 300]</td>\n",
       "      <td>A2020-EM-01-0001</td>\n",
       "      <td>1</td>\n",
       "    </tr>\n",
       "    <tr>\n",
       "      <th>2</th>\n",
       "      <td>5</td>\n",
       "      <td>Wake</td>\n",
       "      <td>2020/05/02 22:21:30.000</td>\n",
       "      <td>2020/05/02 22:22:00.000</td>\n",
       "      <td>3</td>\n",
       "      <td>4</td>\n",
       "      <td>30.0</td>\n",
       "      <td>5.0</td>\n",
       "      <td>[300, 450]</td>\n",
       "      <td>A2020-EM-01-0001</td>\n",
       "      <td>2</td>\n",
       "    </tr>\n",
       "    <tr>\n",
       "      <th>3</th>\n",
       "      <td>7</td>\n",
       "      <td>Wake</td>\n",
       "      <td>2020/05/02 22:22:00.000</td>\n",
       "      <td>2020/05/02 22:22:30.000</td>\n",
       "      <td>4</td>\n",
       "      <td>5</td>\n",
       "      <td>30.0</td>\n",
       "      <td>5.0</td>\n",
       "      <td>[450, 600]</td>\n",
       "      <td>A2020-EM-01-0001</td>\n",
       "      <td>3</td>\n",
       "    </tr>\n",
       "    <tr>\n",
       "      <th>4</th>\n",
       "      <td>8</td>\n",
       "      <td>Wake</td>\n",
       "      <td>2020/05/02 22:22:30.000</td>\n",
       "      <td>2020/05/02 22:23:00.000</td>\n",
       "      <td>5</td>\n",
       "      <td>6</td>\n",
       "      <td>30.0</td>\n",
       "      <td>5.0</td>\n",
       "      <td>[600, 750]</td>\n",
       "      <td>A2020-EM-01-0001</td>\n",
       "      <td>4</td>\n",
       "    </tr>\n",
       "  </tbody>\n",
       "</table>\n",
       "</div>"
      ],
      "text/plain": [
       "   Event_Number Event_Label               Start_Time                 End_Time  \\\n",
       "0             0        Wake  2020/05/02 22:20:30.000  2020/05/02 22:21:00.000   \n",
       "1             4        Wake  2020/05/02 22:21:00.000  2020/05/02 22:21:30.000   \n",
       "2             5        Wake  2020/05/02 22:21:30.000  2020/05/02 22:22:00.000   \n",
       "3             7        Wake  2020/05/02 22:22:00.000  2020/05/02 22:22:30.000   \n",
       "4             8        Wake  2020/05/02 22:22:30.000  2020/05/02 22:23:00.000   \n",
       "\n",
       "   Start_Epoch  End_Epoch  Duration(second)  FPS      Frames  \\\n",
       "0            1          2              30.0  5.0    [0, 150]   \n",
       "1            2          3              30.0  5.0  [150, 300]   \n",
       "2            3          4              30.0  5.0  [300, 450]   \n",
       "3            4          5              30.0  5.0  [450, 600]   \n",
       "4            5          6              30.0  5.0  [600, 750]   \n",
       "\n",
       "               Case  ID  \n",
       "0  A2020-EM-01-0001   0  \n",
       "1  A2020-EM-01-0001   1  \n",
       "2  A2020-EM-01-0001   2  \n",
       "3  A2020-EM-01-0001   3  \n",
       "4  A2020-EM-01-0001   4  "
      ]
     },
     "execution_count": 7,
     "metadata": {},
     "output_type": "execute_result"
    }
   ],
   "source": [
    "p_annot_df = pd.read_csv(f'./DATA/annot.csv')\n",
    "p_annot_df['ID'] = list(range(len(p_annot_df)))\n",
    "p_annot_df.head()"
   ]
  },
  {
   "cell_type": "code",
   "execution_count": 8,
   "metadata": {},
   "outputs": [],
   "source": [
    "IMG_DIR = '/ainode/dataset/train/'\n",
    "FLOW_DIR = '/ainode/dataset/train/flow/'\n",
    "RGB_DIR = '/ainode/dataset/train/rgb/'"
   ]
  },
  {
   "cell_type": "code",
   "execution_count": 9,
   "metadata": {},
   "outputs": [
    {
     "data": {
      "text/plain": [
       "Light Sleep    609\n",
       "Deep Sleep     245\n",
       "Wake           146\n",
       "Name: Event_Label, dtype: int64"
      ]
     },
     "execution_count": 9,
     "metadata": {},
     "output_type": "execute_result"
    }
   ],
   "source": [
    "p_annot_df['Event_Label'].iloc[1200:2200].value_counts()"
   ]
  },
  {
   "cell_type": "markdown",
   "metadata": {},
   "source": [
    "## Train Val Test Split"
   ]
  },
  {
   "cell_type": "code",
   "execution_count": 10,
   "metadata": {},
   "outputs": [],
   "source": [
    "DATA_NUM = 1000"
   ]
  },
  {
   "cell_type": "code",
   "execution_count": 11,
   "metadata": {},
   "outputs": [],
   "source": [
    "y = p_annot_df.Event_Label[:DATA_NUM]\n",
    "X = p_annot_df[['ID','Start_Epoch','Case', 'FPS', 'Frames']][:DATA_NUM]"
   ]
  },
  {
   "cell_type": "code",
   "execution_count": 12,
   "metadata": {},
   "outputs": [
    {
     "data": {
      "text/plain": [
       "(810, 90, 100)"
      ]
     },
     "execution_count": 12,
     "metadata": {},
     "output_type": "execute_result"
    }
   ],
   "source": [
    "from sklearn.model_selection import train_test_split\n",
    "X_train, X_test, y_train, y_test = train_test_split(X, y,test_size=0.1)\n",
    "X_train, X_val, y_train, y_val = train_test_split(X_train, y_train,test_size=0.1)\n",
    "len(X_train),len(X_val),len(X_test)"
   ]
  },
  {
   "cell_type": "code",
   "execution_count": 13,
   "metadata": {},
   "outputs": [
    {
     "data": {
      "text/plain": [
       "((array(['Deep Sleep', 'Light Sleep', 'Wake'], dtype=object),\n",
       "  array([224, 376, 210])),\n",
       " (array(['Deep Sleep', 'Light Sleep', 'Wake'], dtype=object),\n",
       "  array([28, 37, 25])),\n",
       " (array(['Deep Sleep', 'Light Sleep', 'Wake'], dtype=object),\n",
       "  array([25, 52, 23])))"
      ]
     },
     "execution_count": 13,
     "metadata": {},
     "output_type": "execute_result"
    }
   ],
   "source": [
    "np.unique(y_train, return_counts=True),\\\n",
    "np.unique(y_val, return_counts=True),\\\n",
    "np.unique(y_test, return_counts=True)"
   ]
  },
  {
   "cell_type": "markdown",
   "metadata": {},
   "source": [
    "## DataLoader"
   ]
  },
  {
   "cell_type": "code",
   "execution_count": 14,
   "metadata": {},
   "outputs": [],
   "source": [
    "from torch.utils.data import DataLoader\n",
    "from torch.utils.data import Dataset as BaseDataset\n",
    "import sklearn"
   ]
  },
  {
   "cell_type": "code",
   "execution_count": 15,
   "metadata": {},
   "outputs": [],
   "source": [
    "import torchvision.transforms as transforms"
   ]
  },
  {
   "cell_type": "code",
   "execution_count": 16,
   "metadata": {},
   "outputs": [],
   "source": [
    "class Dataset(BaseDataset):\n",
    "    \n",
    "    def __init__(\n",
    "            self,  \n",
    "            X,\n",
    "            y,\n",
    "            imgtype, # 'rgb','flow_x','flow_y'\n",
    "            labels,\n",
    "            augmentation=None, \n",
    "            preprocessing=None,\n",
    "    ):\n",
    "        self.epochs = X['Start_Epoch'].tolist()\n",
    "        self.cases = X['Case'].tolist()\n",
    "        self.fps = X['FPS'].tolist()\n",
    "        self.frames = X['Frames'].tolist()\n",
    "        self.imgpaths = [f'{IMG_DIR}{imgtype[:4]}/{self.cases[idx]}_video_01/' for idx in range(len(self.epochs))]\n",
    "        self.imgtype = imgtype\n",
    "        self.labels = labels\n",
    "        \n",
    "        self.augmentation = augmentation\n",
    "        self.preprocessing = preprocessing\n",
    "    \n",
    "        le = sklearn.preprocessing.LabelEncoder()\n",
    "        self.level = le.fit_transform(y.tolist())\n",
    "    \n",
    "    def __getitem__(self, i):\n",
    "        \n",
    "        # read data\n",
    "        imgs_path = self.imgpaths[i] # 해당 케이스 이미지 다 들어가있는 디렉토리\n",
    "        \n",
    "        if 'flow' in self.imgtype:\n",
    "            img_lst = glob(imgs_path+f'/{self.imgtype}*.jpg')\n",
    "        else:\n",
    "            img_lst = glob(imgs_path+'/img*.jpg')\n",
    "        img_lst.sort()\n",
    "        frames = ast.literal_eval(self.frames[i])\n",
    "        img_lst = img_lst[frames[0]:frames[1]] #img_lst[self.frames[i][0]:self.frames[i][0]+150]\n",
    "        images = []\n",
    "        \n",
    "        for idx, path in enumerate(img_lst):\n",
    "            if idx % 5 == 0:\n",
    "#                 image = np.array(Image.open(path).convert('RGB'))\n",
    "#                 if self.augmentation:\n",
    "#                     sample = self.augmentation(image=image)\n",
    "#                     image = sample['image'].convert('RGB')\n",
    "                image = np.array(Image.open(path).resize((128,128)).convert('RGB'))\n",
    "                image = np.transpose(image, (2, 0, 1))\n",
    "                images.append(image)\n",
    "        \n",
    "        images = np.array(images)\n",
    "        images = np.transpose(images, (1,0,2,3))\n",
    "        images = torch.Tensor(images)\n",
    "        \n",
    "        level = torch.as_tensor(self.level[i])\n",
    "\n",
    "#         if self.preprocessing:\n",
    "#             sample = self.preprocessing(images = images)\n",
    "#             images = sample['images']\n",
    "        \n",
    "        \n",
    "        return images, level\n",
    "\n",
    "        \n",
    "    def __len__(self):\n",
    "        return len(self.epochs)"
   ]
  },
  {
   "cell_type": "code",
   "execution_count": 17,
   "metadata": {},
   "outputs": [],
   "source": [
    "def get_validation_augmentation():\n",
    "    test_transform = [transforms.Resize((256, 256)), \n",
    "    ]\n",
    "    return albu.Compose(test_transform)\n",
    "\n",
    "\n",
    "# def to_tensor(x, **kwargs):\n",
    "#     return x.transpose(3, 0, 1, 2).astype('float32')"
   ]
  },
  {
   "cell_type": "code",
   "execution_count": 18,
   "metadata": {},
   "outputs": [],
   "source": [
    "def to_tensor(x, **kwargs):\n",
    "    return x.transpose(3, 0, 1, 2).astype('float32')\n",
    "\n",
    "\n",
    "def get_preprocessing():\n",
    "    _transform = [\n",
    "        albu.Lambda(images=to_tensor),\n",
    "    ]\n",
    "    return albu.Compose(_transform)"
   ]
  },
  {
   "cell_type": "code",
   "execution_count": 19,
   "metadata": {},
   "outputs": [
    {
     "data": {
      "image/png": "[encoded data removed]",
      "text/plain": [
       "<PIL.Image.Image image mode=RGB size=128x128 at 0x7F3C54C24D60>"
      ]
     },
     "execution_count": 19,
     "metadata": {},
     "output_type": "execute_result"
    }
   ],
   "source": [
    "dataset = Dataset(X_train[:5], y_train[:5], 'rgb', ['Wake', 'Light Sleep','Deep Sleep'],)\n",
    "#                   augmentation = get_validation_augmentation()) #, preprocessing = get_preprocessing())\n",
    "image, level = dataset[4]\n",
    "\n",
    "np.array(image).shape\n",
    "# dataset.cases, dataset.epochs\n",
    "# np.unique(np.array(images[6]))\n",
    "# Image.fromarray(np.array(image).astype('uint8'))\n",
    "Image.fromarray(np.transpose(np.array(image).astype('uint8')[:,0,:,:], (2,1,0)))"
   ]
  },
  {
   "cell_type": "code",
   "execution_count": 20,
   "metadata": {},
   "outputs": [],
   "source": [
    "BATCH_SIZE = 16"
   ]
  },
  {
   "cell_type": "code",
   "execution_count": 21,
   "metadata": {},
   "outputs": [],
   "source": [
    "imagetype = 'rgb' # 'rgb', 'flow_x','flow_y'\n",
    "labels = ['Wake', 'Light Sleep','Deep Sleep']\n",
    "train_dataset = Dataset(X_train, y_train, imagetype, labels)\n",
    "val_dataset = Dataset(X_val, y_val, imagetype, labels)\n",
    "test_dataset = Dataset(X_test, y_test, imagetype, labels)\n",
    "\n",
    "train_loader = DataLoader(train_dataset, batch_size=BATCH_SIZE, shuffle=True, num_workers=4)\n",
    "val_loader = DataLoader(val_dataset, batch_size=BATCH_SIZE, shuffle=False, num_workers=4)\n",
    "test_loader = DataLoader(test_dataset)"
   ]
  },
  {
   "cell_type": "code",
   "execution_count": 22,
   "metadata": {},
   "outputs": [
    {
     "name": "stdout",
     "output_type": "stream",
     "text": [
      "51\n",
      "Xtrain: torch.Size([16, 3, 30, 128, 128]) type: torch.FloatTensor\n",
      "ytrain: torch.Size([16]) type: torch.LongTensor\n",
      "\n",
      "6\n",
      "Xval: torch.Size([16, 3, 30, 128, 128]) type: torch.FloatTensor\n",
      "yval: torch.Size([16]) type: torch.LongTensor\n",
      "\n",
      "100\n",
      "Xtest: torch.Size([1, 3, 30, 128, 128]) type: torch.FloatTensor\n",
      "ytest: torch.Size([1]) type: torch.LongTensor\n"
     ]
    }
   ],
   "source": [
    "print(len(train_loader))\n",
    "\n",
    "Xtrain, ytrain = next(iter(train_loader))\n",
    "print('Xtrain:', Xtrain.size(), 'type:', Xtrain.type())\n",
    "print('ytrain:', ytrain.size(), 'type:', ytrain.type())\n",
    "\n",
    "print()\n",
    "print(len(val_loader))\n",
    "\n",
    "Xval, yval = next(iter(val_loader))\n",
    "print('Xval:', Xval.size(), 'type:', Xval.type())\n",
    "print('yval:', yval.size(), 'type:', yval.type())\n",
    "\n",
    "print()\n",
    "print(len(test_loader))\n",
    "\n",
    "Xtest, ytest = next(iter(test_loader))\n",
    "print('Xtest:', Xtest.size(), 'type:', Xtest.type())\n",
    "print('ytest:', ytest.size(), 'type:', ytest.type())"
   ]
  },
  {
   "cell_type": "code",
   "execution_count": 23,
   "metadata": {},
   "outputs": [
    {
     "name": "stdout",
     "output_type": "stream",
     "text": [
      "CPU times: user 6.26 ms, sys: 35.4 ms, total: 41.7 ms\n",
      "Wall time: 10.6 s\n"
     ]
    }
   ],
   "source": [
    "%%time\n",
    "Xtrain, ytrain = next(iter(train_loader))"
   ]
  },
  {
   "cell_type": "code",
   "execution_count": 24,
   "metadata": {},
   "outputs": [
    {
     "data": {
      "text/plain": [
       "tensor([1, 1, 1, 1, 0, 1, 0, 1, 2, 1, 1, 2, 0, 2, 0, 1])"
      ]
     },
     "execution_count": 24,
     "metadata": {},
     "output_type": "execute_result"
    }
   ],
   "source": [
    "ytrain"
   ]
  },
  {
   "cell_type": "code",
   "execution_count": 25,
   "metadata": {},
   "outputs": [],
   "source": [
    "pltsize = 4                         \n",
    "\n",
    "plt.figure(figsize=(10 * pltsize, pltsize))\n",
    "for i in range(len(Xtrain[:10])):\n",
    "    plt.subplot(1, 10, i+1)\n",
    "    plt.axis('off')\n",
    "    img = np.transpose(Xtrain.numpy()[i][:,0,:,:], (2,1,0))[:,:,0]\n",
    "    plt.imshow(img,cmap=\"gray_r\")\n",
    "#     plt.title('Class: ' + str(y_train[i].item()))\n",
    "    plt.title('Class: ' + str(ytrain[i])[-2])"
   ]
  },
  {
   "cell_type": "markdown",
   "metadata": {},
   "source": [
    "## Train Model"
   ]
  },
  {
   "cell_type": "code",
   "execution_count": 26,
   "metadata": {},
   "outputs": [],
   "source": [
    "CLASSES = 3"
   ]
  },
  {
   "cell_type": "code",
   "execution_count": 27,
   "metadata": {},
   "outputs": [],
   "source": [
    "resnet3d = torchvision.models.video.r3d_18(pretrained = True, progress = True)"
   ]
  },
  {
   "cell_type": "code",
   "execution_count": 28,
   "metadata": {},
   "outputs": [],
   "source": [
    "import torch.nn as nn  "
   ]
  },
  {
   "cell_type": "code",
   "execution_count": 29,
   "metadata": {},
   "outputs": [
    {
     "data": {
      "text/plain": [
       "Sequential(\n",
       "  (0): Linear(in_features=512, out_features=3, bias=True)\n",
       "  (1): Softmax(dim=None)\n",
       ")"
      ]
     },
     "execution_count": 29,
     "metadata": {},
     "output_type": "execute_result"
    }
   ],
   "source": [
    "# classifier layer output shape --> number of classes\n",
    "\n",
    "num_ftrs = resnet3d.fc.in_features\n",
    "resnet3d.fc = nn.Linear(num_ftrs,CLASSES)\n",
    "resnet3d.fc = nn.Sequential(resnet3d.fc, nn.Softmax(),)\n",
    "\n",
    "resnet3d.fc"
   ]
  },
  {
   "cell_type": "code",
   "execution_count": 30,
   "metadata": {},
   "outputs": [],
   "source": [
    "LR = 0.00005\n",
    "EPOCHS = 100\n",
    "TRAIN_PATIENCE = 10"
   ]
  },
  {
   "cell_type": "code",
   "execution_count": 31,
   "metadata": {},
   "outputs": [
    {
     "ename": "AttributeError",
     "evalue": "module 'torch.optim.lr_scheduler' has no attribute 'LamabdaLR'",
     "output_type": "error",
     "traceback": [
      "\u001b[0;31m---------------------------------------------------------------------------\u001b[0m",
      "\u001b[0;31mAttributeError\u001b[0m                            Traceback (most recent call last)",
      "\u001b[0;32m<ipython-input-31-d5456b726d5f>\u001b[0m in \u001b[0;36m<module>\u001b[0;34m\u001b[0m\n\u001b[1;32m      2\u001b[0m \u001b[0moptimizer\u001b[0m \u001b[0;34m=\u001b[0m \u001b[0mtorch\u001b[0m\u001b[0;34m.\u001b[0m\u001b[0moptim\u001b[0m\u001b[0;34m.\u001b[0m\u001b[0mAdam\u001b[0m\u001b[0;34m(\u001b[0m\u001b[0mmodel\u001b[0m\u001b[0;34m.\u001b[0m\u001b[0mparameters\u001b[0m\u001b[0;34m(\u001b[0m\u001b[0;34m)\u001b[0m\u001b[0;34m,\u001b[0m \u001b[0mlr\u001b[0m \u001b[0;34m=\u001b[0m \u001b[0mLR\u001b[0m\u001b[0;34m)\u001b[0m\u001b[0;34m\u001b[0m\u001b[0;34m\u001b[0m\u001b[0m\n\u001b[1;32m      3\u001b[0m \u001b[0mcriterion\u001b[0m \u001b[0;34m=\u001b[0m \u001b[0mnn\u001b[0m\u001b[0;34m.\u001b[0m\u001b[0mCrossEntropyLoss\u001b[0m\u001b[0;34m(\u001b[0m\u001b[0;34m)\u001b[0m\u001b[0;34m\u001b[0m\u001b[0;34m\u001b[0m\u001b[0m\n\u001b[0;32m----> 4\u001b[0;31m scheduler = torch.optim.lr_scheduler.LamabdaLR(optimizer=optimizer,\n\u001b[0m\u001b[1;32m      5\u001b[0m                                 \u001b[0mlr_lambda\u001b[0m\u001b[0;34m=\u001b[0m\u001b[0;32mlambda\u001b[0m \u001b[0mepoch\u001b[0m\u001b[0;34m:\u001b[0m \u001b[0;36m0.95\u001b[0m \u001b[0;34m**\u001b[0m \u001b[0mepoch\u001b[0m\u001b[0;34m,\u001b[0m\u001b[0;34m\u001b[0m\u001b[0;34m\u001b[0m\u001b[0m\n\u001b[1;32m      6\u001b[0m                                 \u001b[0mlast_epoch\u001b[0m\u001b[0;34m=\u001b[0m\u001b[0;34m-\u001b[0m\u001b[0;36m1\u001b[0m\u001b[0;34m,\u001b[0m\u001b[0;34m\u001b[0m\u001b[0;34m\u001b[0m\u001b[0m\n",
      "\u001b[0;31mAttributeError\u001b[0m: module 'torch.optim.lr_scheduler' has no attribute 'LamabdaLR'"
     ]
    }
   ],
   "source": [
    "model = resnet3d.to(DEVICE)\n",
    "optimizer = torch.optim.Adam(model.parameters(), lr = LR)\n",
    "criterion = nn.CrossEntropyLoss()\n",
    "scheduler = torch.optim.lr_scheduler.LamabdaLR(optimizer=optimizer,\n",
    "                                lr_lambda=lambda epoch: 0.95 ** epoch,\n",
    "                                last_epoch=-1,\n",
    "                                verbose=False)"
   ]
  },
  {
   "cell_type": "code",
   "execution_count": null,
   "metadata": {
    "scrolled": true
   },
   "outputs": [],
   "source": [
    "model"
   ]
  },
  {
   "cell_type": "code",
   "execution_count": null,
   "metadata": {},
   "outputs": [],
   "source": [
    "# https://www.kaggle.com/xinruizhuang/skin-lesion-classification-acc-90-pytorch\n",
    "# this function is used during training process, to calculation the loss and accuracy\n",
    "\n",
    "class AverageMeter(object):\n",
    "    def __init__(self):\n",
    "        self.reset()\n",
    "\n",
    "    def reset(self):\n",
    "        self.val = 0\n",
    "        self.avg = 0\n",
    "        self.sum = 0\n",
    "        self.count = 0\n",
    "\n",
    "    def update(self, val, n=1):\n",
    "        self.val = val\n",
    "        self.sum += val * n\n",
    "        self.count += n\n",
    "        self.avg = self.sum / self.count"
   ]
  },
  {
   "cell_type": "code",
   "execution_count": null,
   "metadata": {},
   "outputs": [],
   "source": [
    "image, label = next(iter(train_loader))\n",
    "image.shape, label.shape"
   ]
  },
  {
   "cell_type": "code",
   "execution_count": null,
   "metadata": {},
   "outputs": [],
   "source": [
    "def train(model, train_loader, optimizer, log_interval):\n",
    "    model.train()                                                 # assign train mode to the model\n",
    "    \n",
    "    train_loss = AverageMeter()\n",
    "    train_acc = AverageMeter()\n",
    "    \n",
    "    for batch_idx, (image, label) in enumerate(train_loader):\n",
    "        image = image.to(DEVICE)\n",
    "        label = label.to(DEVICE)\n",
    "        optimizer.zero_grad()                                     # 과거에 이용한 Mini-Batch내에 있는 이미지 데이터와 레이블 데이터를 바탕으로 계산된 Loss의 Gradient값이 optimizer에 할당되어 있으므로 optimizer의 Gradient 초기화\n",
    "        output = model(image)\n",
    "        loss = criterion(output, label)\n",
    "        loss.backward()                                           # Back propagation으로 계산된 Gradient 값을 각 parameter에 할당\n",
    "        optimizer.step()                                          # parameter update\n",
    "        scheduler.step()\n",
    "        prediction = output.max(1, keepdim = True)[1]             # predicted labels in tensor\n",
    "        \n",
    "        train_acc.update(prediction.eq(label.view_as(prediction)).sum().item()/BATCH_SIZE)\n",
    "        train_loss.update(loss.item())\n",
    "        \n",
    "        if batch_idx % log_interval == 0:                         # print log\n",
    "            print(\"Train Epoch: {} [{}/{}({:.0f}%)]\\tTrain Loss: {:.6f}\".format(Epoch, batch_idx * len(image), len(train_loader.dataset), 100. * batch_idx / len(train_loader), loss.item()))\n",
    "    \n",
    "    total_loss_train.append(train_loss.avg)\n",
    "    total_acc_train.append(train_acc.avg)"
   ]
  },
  {
   "cell_type": "code",
   "execution_count": null,
   "metadata": {},
   "outputs": [],
   "source": [
    "def evaluate(model, test_loader):\n",
    "    model.eval()\n",
    "    \n",
    "    val_loss = AverageMeter()\n",
    "    val_acc = AverageMeter()\n",
    "    \n",
    "    with torch.no_grad():                                                     # 모델을 평가하는 단계에서는 Gradient를 통해 parameter값이 update되는 현상을 방지하기 위해 'torch.no_grad()' 메서드를 이용해 Gradient의 흐름을 억제\n",
    "        for image, label in val_loader:\n",
    "            image = image.to(DEVICE)\n",
    "            label = label.to(DEVICE)\n",
    "            output = model(image)\n",
    "            loss = criterion(output, label)\n",
    "            prediction = output.max(1, keepdim = True)[1]                     # output값 (prediction probability)가 가장 높은 index(class)로 예측\n",
    "    \n",
    "            val_acc.update(prediction.eq(label.view_as(prediction)).sum().item()/BATCH_SIZE)\n",
    "            val_loss.update(loss.item())\n",
    "    \n",
    "    total_acc_val.append(val_acc.avg)\n",
    "    total_loss_val.append(val_loss.avg)\n",
    "    \n",
    "    return val_loss.avg, val_acc.avg   "
   ]
  },
  {
   "cell_type": "code",
   "execution_count": null,
   "metadata": {
    "scrolled": true
   },
   "outputs": [],
   "source": [
    "best_val_acc = 0\n",
    "best_val_loss = 100\n",
    "epoch = 0\n",
    "total_loss_train, total_acc_train = [],[]\n",
    "total_loss_val, total_acc_val = [],[]\n",
    "\n",
    "for Epoch in range(1, EPOCHS+1):\n",
    "    train(model, train_loader, optimizer, log_interval = 20)\n",
    "    val_loss, val_acc = evaluate(model, test_loader)\n",
    "    print(\"\\n[EPOCH: {}], \\tVal Loss: {:.4f}, \\tVal Accuracy: {:.2f} %\\n\".format(Epoch, val_loss, val_acc))\n",
    "    \n",
    "    # monitoring test accuracy\n",
    "    if val_acc > best_val_acc:\n",
    "        best_val_acc = val_acc\n",
    "        epoch = Epoch\n",
    "        print('*****************************************************')\n",
    "        print('best record: [epoch %d], [val loss %.5f], [val acc %.5f]' % (Epoch, val_loss, val_acc))\n",
    "        print('*****************************************************')\n",
    "    elif Epoch > epoch + TRAIN_PATIENCE:\n",
    "        break\n",
    "        \n",
    "#     # monitoring test loss\n",
    "#     if test_loss < best_val_loss:\n",
    "#         best_val_loss = test_loss\n",
    "#         epoch = Epoch\n",
    "#         print('*****************************************************')\n",
    "#         print('best record: [epoch %d], [val loss %.5f], [val acc %.5f]' % (Epoch, test_loss, test_accuracy))\n",
    "#         print('*****************************************************')\n",
    "#     elif Epoch > epoch + TRAIN_PATIENCE:\n",
    "#         break"
   ]
  },
  {
   "cell_type": "code",
   "execution_count": null,
   "metadata": {},
   "outputs": [],
   "source": [
    "best_val_acc"
   ]
  },
  {
   "cell_type": "markdown",
   "metadata": {},
   "source": [
    "# Evaluation"
   ]
  },
  {
   "cell_type": "code",
   "execution_count": null,
   "metadata": {},
   "outputs": [],
   "source": [
    "fig = plt.figure(num = 2)\n",
    "fig1 = fig.add_subplot(2,1,1)\n",
    "fig2 = fig.add_subplot(2,1,2)\n",
    "fig1.plot(total_loss_train, label = 'training loss')\n",
    "fig1.plot(total_loss_val, label = 'test loss')\n",
    "fig2.plot(total_acc_train, label = 'training accuracy')\n",
    "fig2.plot(total_acc_val, label = 'test accuracy')\n",
    "plt.legend()\n",
    "plt.show()"
   ]
  },
  {
   "cell_type": "code",
   "execution_count": null,
   "metadata": {},
   "outputs": [],
   "source": [
    "min(total_loss_val), max(total_acc_val)"
   ]
  },
  {
   "cell_type": "markdown",
   "metadata": {},
   "source": [
    "# Save Model"
   ]
  },
  {
   "cell_type": "code",
   "execution_count": null,
   "metadata": {},
   "outputs": [],
   "source": [
    "!mkdir ./saved-models"
   ]
  },
  {
   "cell_type": "code",
   "execution_count": null,
   "metadata": {},
   "outputs": [],
   "source": [
    "PATH = \"./saved-models/model-epoch{epoch:02d}-loss_val{loss_val:.2f}-acc_val{acc_val:.2f}.pt\".format(epoch = epoch, loss_val = total_loss_val[epoch] , acc_val = total_acc_val[epoch])\n",
    "\n",
    "# torch.save(model.state_dict, PATH)\n",
    "torch.save({\n",
    "            'epoch': epoch,\n",
    "            'model_state_dict': model.state_dict(), # trained parameters\n",
    "            'optimizer_state_dict': optimizer.state_dict(), # this contains buffers and parameters that are updated as the model trains\n",
    "            'accuracy':best_val_acc, #'loss': best_val_loss,\n",
    "            }, PATH)"
   ]
  },
  {
   "cell_type": "code",
   "execution_count": null,
   "metadata": {},
   "outputs": [],
   "source": [
    "resnet3d = torchvision.models.video.r3d_18(pretrained = True, progress = True)"
   ]
  },
  {
   "cell_type": "code",
   "execution_count": null,
   "metadata": {},
   "outputs": [],
   "source": [
    "# classifier layer output shape --> number of classes\n",
    "CLASSES = 3\n",
    "\n",
    "num_ftrs = resnet3d.fc.in_features\n",
    "resnet3d.fc = nn.Linear(num_ftrs,CLASSES)\n",
    "resnet3d.fc = nn.Sequential(resnet3d.fc, nn.Softmax(),)"
   ]
  },
  {
   "cell_type": "code",
   "execution_count": null,
   "metadata": {},
   "outputs": [],
   "source": [
    "# best_model = resnet3d.to(DEVICE)\n",
    "optimizer = torch.optim.Adam(model.parameters(), lr = LR)"
   ]
  },
  {
   "cell_type": "code",
   "execution_count": null,
   "metadata": {},
   "outputs": [],
   "source": [
    "best_model = resnet3d"
   ]
  },
  {
   "cell_type": "code",
   "execution_count": null,
   "metadata": {},
   "outputs": [],
   "source": [
    "WORK_DIR = './'"
   ]
  },
  {
   "cell_type": "code",
   "execution_count": null,
   "metadata": {
    "scrolled": false
   },
   "outputs": [],
   "source": [
    "DIR = WORK_DIR + 'saved-models/'\n",
    "\n",
    "weights = os.listdir(DIR)\n",
    "weights.sort()\n",
    "# val_losses = [filename.split('-')[2].split('val')[1] for filename in weights]\n",
    "val_losses = [filename.split('-')[2].split('val')[1] for filename in weights] #[1:]]\n",
    "best_weight = val_losses.index(min(val_losses))\n",
    "# path = './saved_models/' + weights[best_weight]\n",
    "path = DIR + weights[best_weight] #+1] # '.ipynb_checkpoints' 파일이 맨 앞에 있기 때문에 index가 하나씩 밀린다.\n",
    "\n",
    "# best_model = torch.load(DIR+'model-epoch00-loss_val1.08-acc_val0.46.pt')\n",
    "checkpoint = torch.load(path)\n",
    "best_model.load_state_dict(checkpoint['model_state_dict'])\n",
    "optimizer.load_state_dict(checkpoint['optimizer_state_dict'])\n",
    "epoch = checkpoint['epoch']\n",
    "accuracy = checkpoint['accuracy']\n",
    "# loss = checkpoint['loss']\n",
    "\n",
    "best_model.eval()"
   ]
  },
  {
   "cell_type": "markdown",
   "metadata": {},
   "source": [
    "# Inference"
   ]
  },
  {
   "cell_type": "code",
   "execution_count": null,
   "metadata": {},
   "outputs": [],
   "source": [
    "!ls /mnt/dataset/test/annotation"
   ]
  },
  {
   "cell_type": "code",
   "execution_count": null,
   "metadata": {},
   "outputs": [],
   "source": [
    "!ls /ainode/dataset/test/flow"
   ]
  },
  {
   "cell_type": "code",
   "execution_count": null,
   "metadata": {
    "scrolled": true
   },
   "outputs": [],
   "source": [
    "!ls /ainode/dataset/test/rgb"
   ]
  },
  {
   "cell_type": "code",
   "execution_count": null,
   "metadata": {},
   "outputs": [],
   "source": []
  },
  {
   "cell_type": "markdown",
   "metadata": {},
   "source": [
    "# Evaluate Model"
   ]
  },
  {
   "cell_type": "code",
   "execution_count": null,
   "metadata": {},
   "outputs": [],
   "source": [
    "true_labels = []\n",
    "predicted_labels = []\n",
    "predicted_values = []\n",
    "\n",
    "# best_model.eval()\n",
    "    \n",
    "test_loss = AverageMeter()\n",
    "test_acc = AverageMeter()\n",
    "\n",
    "with torch.no_grad():                                                     # 모델을 평가하는 단계에서는 Gradient를 통해 parameter값이 update되는 현상을 방지하기 위해 'torch.no_grad()' 메서드를 이용해 Gradient의 흐름을 억제\n",
    "    for image, label in test_loader:\n",
    "        image = image.to(DEVICE)\n",
    "        label = label.to(DEVICE)\n",
    "        output = best_model(image)\n",
    "        loss = criterion(output, label)\n",
    "        prediction = output.max(1, keepdim = True)[1]                     # output값 (prediction probability)가 가장 높은 index(class)로 예측\n",
    "        \n",
    "        true_labels.append(label)\n",
    "        predicted_labels.append(prediction)\n",
    "        predicted_values.append(output)\n",
    "        \n",
    "        test_acc.update(prediction.eq(label.view_as(prediction)).sum().item()/BATCH_SIZE)\n",
    "        test_loss.update(loss.item())\n",
    "        \n",
    "test_loss.avg, test_acc.avg"
   ]
  },
  {
   "cell_type": "code",
   "execution_count": null,
   "metadata": {},
   "outputs": [],
   "source": [
    "len(predicted_values)"
   ]
  },
  {
   "cell_type": "code",
   "execution_count": null,
   "metadata": {},
   "outputs": [],
   "source": [
    "# tensor to array form\n",
    "true_test_lst = []\n",
    "predicted_test_lst = []\n",
    "predicted_value_lst = []\n",
    "\n",
    "for i in range(len(test_loader)):\n",
    "    t_labels = true_labels[i].cpu().numpy()\n",
    "    true_test_lst += list(t_labels)\n",
    "    \n",
    "    p_labels = predicted_labels[i].cpu().numpy()[:,0]\n",
    "    predicted_test_lst += list(p_labels)\n",
    "    \n",
    "    p_values = predicted_values[i].cpu().numpy()\n",
    "    predicted_value_lst += list(p_values)\n",
    "    \n",
    "true_test_arr = np.array(true_test_lst)\n",
    "predicted_test_arr = np.array(predicted_test_lst)\n",
    "predicted_value_arr = np.array([list(arr) for arr in predicted_value_lst])\n",
    "    \n",
    "true_test_arr[:20], predicted_test_arr[:20], predicted_value_arr[:20]"
   ]
  },
  {
   "cell_type": "code",
   "execution_count": null,
   "metadata": {},
   "outputs": [],
   "source": [
    "from sklearn.metrics import confusion_matrix, classification_report, roc_curve, auc"
   ]
  },
  {
   "cell_type": "code",
   "execution_count": null,
   "metadata": {},
   "outputs": [],
   "source": [
    "# Confusion Matrix\n",
    "tick_labels = ['Wake', 'Light Sleep','Deep Sleep']\n",
    "\n",
    "cm = confusion_matrix(true_test_arr, predicted_test_arr)\n",
    "ax = sns.heatmap(cm, annot=True, fmt=\"d\")\n",
    "plt.ylabel('Actual')\n",
    "plt.xlabel('Predicted')\n",
    "ax.set_xticklabels(tick_labels)\n",
    "ax.set_yticklabels(tick_labels)"
   ]
  },
  {
   "cell_type": "code",
   "execution_count": null,
   "metadata": {},
   "outputs": [],
   "source": [
    "# Classification Report\n",
    "\n",
    "labels = ['Wake', 'Light Sleep','Deep Sleep']\n",
    "\n",
    "print(classification_report(true_test_arr, predicted_test_arr, target_names = labels))"
   ]
  },
  {
   "cell_type": "code",
   "execution_count": null,
   "metadata": {},
   "outputs": [],
   "source": [
    "# roc curve for classes\n",
    "\n",
    "fpr = {}\n",
    "tpr = {}\n",
    "thresh ={}\n",
    "\n",
    "n_class = 3\n",
    "\n",
    "for i in range(n_class):    \n",
    "    fpr[i], tpr[i], thresh[i] = roc_curve(true_test_arr == i, predicted_value_arr[:, i])\n",
    "    \n",
    "# plotting\n",
    "plt.plot(fpr[1], tpr[1], linestyle='--',color='blue', label='Positive: Opacity / Negative: Normal') # Sensitivity: 비정상 중에 비정상으로 predict된 비율 / Specificity: 정상 중에 정상으로 predict된 비율\n",
    "plt.title('ROC curve')\n",
    "plt.xlabel('1-Specificity')\n",
    "plt.ylabel('Sensitivity')\n",
    "plt.legend(loc='best') "
   ]
  },
  {
   "cell_type": "code",
   "execution_count": null,
   "metadata": {},
   "outputs": [],
   "source": []
  }
 ],
 "metadata": {
  "kernelspec": {
   "display_name": "Python 3",
   "language": "python",
   "name": "python3"
  },
  "language_info": {
   "codemirror_mode": {
    "name": "ipython",
    "version": 3
   },
   "file_extension": ".py",
   "mimetype": "text/x-python",
   "name": "python",
   "nbconvert_exporter": "python",
   "pygments_lexer": "ipython3",
   "version": "3.8.10"
  }
 },
 "nbformat": 4,
 "nbformat_minor": 4
}
